{
 "cells": [
  {
   "cell_type": "markdown",
   "metadata": {},
   "source": [
    "Contexte du projet\n",
    "------------------\n",
    "\n",
    "Vous ne révez plus... vous venez de faire le plein de ressources... \n",
    "Aujourd'ui vous allez créer votre premier labyrinthe !!\n",
    "\n",
    "Un labyrinthe est un ensemble complexe de chemins tortueux, à embranchements multiples, dans lequel on peut tourner en rond et se perdre. \n",
    "Il existe un point d’entrée et aussi une issue qu’il convient d’atteindre, cette dernière pouvant être confondue avec le point d’entrée. \n",
    "On peut aussi placer en un certain endroit un objet qu’il s’agit d’atteindre. \n",
    "Dans tous les cas, on doit trouver un moyen d’explorer le labyrinthe en passant partout de façon systématique, du moins jusqu’à l’issue finale, en évitant de refaire plusieurs fois le même chemin ou de tourner en rond. \n",
    "Pour s’en sortir, on connaît le fil d’Ariane, les cailloux disposés sur son chemin par le Petit Poucet, ou la stratégie qui consiste à toujours longer les murs que l’on a à sa droite (ou à sa gauche si l’on préfère). \n",
    "Mais tout cela demande à être précisé.\n",
    "\n",
    "Le but de ce projet est de créer un code python qui va générer aléatoirement des grilles de labyrinthe, qui va être capable de trouver la solution de celles-ci, si elle existe (eh oui, il se peut qu'un labyrinthe soit insoluble!), et qui pourra afficher tout ça sous la forme d’une image !\n",
    "\n",
    "On a appris à parcourir un arbre, en choisissant par exemple d’aller à droite lorsque plusieurs bifurcations se présentent, et en faisant demi-tour lorsqu’on atteint une feuille de l’arbre. \n",
    "Pour résoudre un labyrinthe, l’approche est similaire. Pour cela considérons un objet mobile en forme de carré, caractérisé par sa position (x, y) et dirigé dans une certaine direction, celle qu’il a devant lui. \n",
    "A partir de cette direction, l’objet mobile peut soit garder cette direction, soit faire un quart de tour à droite, soit faire un quart de tour à gauche, soit faire demi-tour. \n",
    "Pour respecter les conditions de l’exploration, il va privilégier de tourner à droite, mais s’il tombe sur un mur, il choisira d’aller devant, et s’il tombe encore sur un mur, il ira à gauche. \n",
    "Enfin, s’il tombe sur un cul-de-sac, il fera demi-tour.\n",
    "\n",
    "« Dans le labyrinthe, tu ne te perds pas... tu te retrouves »\n"
   ]
  },
  {
   "cell_type": "markdown",
   "metadata": {},
   "source": [
    "### 1. Generating Maze"
   ]
  },
  {
   "cell_type": "code",
   "execution_count": 2,
   "metadata": {},
   "outputs": [],
   "source": [
    "import random\n",
    "import matplotlib.pyplot as plt\n",
    "import numpy as np\n",
    "import networkx as nx\n",
    "import random\n",
    "\n",
    "random.seed(4) #Fixer le rendu pour tests"
   ]
  },
  {
   "cell_type": "code",
   "execution_count": 3,
   "metadata": {},
   "outputs": [],
   "source": [
    "class Maillon:\n",
    "\n",
    "    def __init__(self, valeur, suivant=None):\n",
    "        self.valeur = valeur\n",
    "        self.suivant = suivant\n",
    "\n",
    "class Pile:\n",
    "\n",
    "    def __init__(self):\n",
    "        self.taille = 0 # nombre d'assiettes dans la pile\n",
    "        self.sommet = None\n",
    "\n",
    "    def empiler(self, valeur):\n",
    "        self.sommet = Maillon(valeur, self.sommet)\n",
    "        self.taille += 1\n",
    "\n",
    "    def depiler(self):\n",
    "        if self.taille > 0:\n",
    "            valeur = self.sommet.valeur\n",
    "            self.sommet = self.sommet.suivant\n",
    "            self.taille -= 1\n",
    "            return valeur\n",
    "\n",
    "    def estVide(self):\n",
    "        return self.taille == 0\n",
    "\n",
    "    def lireSommet(self):\n",
    "        return self.sommet.valeur\n",
    "    \n"
   ]
  },
  {
   "cell_type": "markdown",
   "metadata": {},
   "source": [
    "#### Function that return the neighbour's list"
   ]
  },
  {
   "cell_type": "code",
   "execution_count": 4,
   "metadata": {},
   "outputs": [],
   "source": [
    "# Grid's size\n",
    "#LARGEUR = 30\n",
    "#HAUTEUR = 30\n",
    "HAUTEUR = LARGEUR = 10\n",
    "\n",
    "def voisinage(couple):\n",
    "    \"\"\"\n",
    "    Renvoie la liste des cellules voisines\n",
    "    de la cellule (ligne, colonne) = couple dans la grille.\n",
    "    \"\"\"\n",
    "    listeVoisins = []\n",
    "    i, j = couple[0], couple[1]\n",
    "    #print(f\"fct voisinage / avant boucle for: i: {i} j: {j} couple: {couple}\") #Debug\n",
    "    for d in (-1, 1):\n",
    "        if -1 < i+d < HAUTEUR: listeVoisins.append( (i+d, j) )\n",
    "        if   -1 < j+d < LARGEUR: listeVoisins.append( (i, j+d) )\n",
    "        #print(f\"fct voisinage / pendat boucle for: i: {i} j: {j} d: {d} i+d:{i+d} j+d:{j+d}\") #Debug\n",
    "    #print(f\"fct voisinage / aprés boucle for: i: {i} j: {j} listeVoisin: {listeVoisins}\\n\") #Debug\n",
    "    return listeVoisins"
   ]
  },
  {
   "cell_type": "markdown",
   "metadata": {},
   "source": [
    "#### The course of the map : Depth First Search"
   ]
  },
  {
   "cell_type": "code",
   "execution_count": 5,
   "metadata": {},
   "outputs": [],
   "source": [
    "def dfs(s) :\n",
    "    P = {s: None}\n",
    "    Q = Pile()\n",
    "    Q.empiler(s)\n",
    "    while not(Q.estVide()) :\n",
    "        u = Q.lireSommet()\n",
    "        R=[y for y in voisinage(u) if y not in P]\n",
    "        if R :\n",
    "            v=random.choice(R)\n",
    "            P[v]=u\n",
    "            Q.empiler(v)\n",
    "        else :\n",
    "            Q.depiler()\n",
    "    return P"
   ]
  },
  {
   "cell_type": "markdown",
   "metadata": {},
   "source": [
    "#### 1.1 Drawing the maze"
   ]
  },
  {
   "cell_type": "code",
   "execution_count": 6,
   "metadata": {},
   "outputs": [],
   "source": [
    "def dedale():\n",
    "    \"\"\"\n",
    "    Drawing the result\n",
    "    \"\"\"\n",
    "    labyrinthe = [ [0 for j in range(2*LARGEUR+1)] for i in range(2*HAUTEUR+1)]\n",
    "    parcours = dfs((0,0))\n",
    "\n",
    "    #print(f\"fct dédale:\\n(\\nlabyrinthe: \\n{labyrinthe})\\nparcours: \\n{parcours}\\n)\") #Debug\n",
    "    #plt.imshow(labyrinthe)\n",
    "    \n",
    "    for i,j in parcours:\n",
    "        labyrinthe[2*i+1][2*j+1] = 1\n",
    "        if (i,j) !=  (0,0):\n",
    "            #print(f\"test: i: {i} j: {j}\")\n",
    "            k,l = parcours[(i,j)]\n",
    "            labyrinthe[2*k+1][2*l+1] = 1\n",
    "            labyrinthe[i+k+1][j+l+1] = 1\n",
    "            \n",
    "    #print(f\"après fct dédale:\\n(\\nlabyrinthe: \\n{labyrinthe})\\nparcours: \\n{parcours}\\n)\") #Debug\n",
    "    #plt.imshow(labyrinthe)\n",
    "\n",
    "    labyrinthe[0][1] = 1 # Entry's draw checkpoint fixed\n",
    "    labyrinthe[2*HAUTEUR][2*LARGEUR-1] = 1 #Exit's draw checkpoint fixed\n",
    "    \n",
    "    #print(f\"Labyrinthe jaune:\\n(\\nlabyrinthe: \\n{labyrinthe})\\nparcours: \\n{parcours}\\n)\") #Debug\n",
    "    return labyrinthe"
   ]
  },
  {
   "cell_type": "code",
   "execution_count": 7,
   "metadata": {},
   "outputs": [
    {
     "data": {
      "image/png": "[encoded data removed]",
      "text/plain": [
       "<Figure size 432x288 with 1 Axes>"
      ]
     },
     "metadata": {},
     "output_type": "display_data"
    }
   ],
   "source": [
    "def affichage(labyrinthe):\n",
    "    \n",
    "    # On dessine le labyrinthe:\n",
    "    plt.imshow(labyrinthe)\n",
    "    \n",
    "    # on cache les graduations:\n",
    "    plt.xticks([])\n",
    "    plt.yticks([])\n",
    "    \n",
    "    # on visualise le résultat:\n",
    "    plt.show()\n",
    "    \n",
    "    #print('[LABYRINTH] =') #Debug\n",
    "    #print('\\n'.join([''.join(['{:4}'.format(item) for item in row]) #Debug\n",
    "    # for row in labyrinthe])) #Debug\n",
    "\n",
    "labyrinthe = dedale()\n",
    "affichage(labyrinthe)"
   ]
  },
  {
   "cell_type": "markdown",
   "metadata": {},
   "source": [
    "#### This drawing is done with a list\n",
    "##### We need to transform it into matrix to use Networkx and shows the graph\n",
    "#####"
   ]
  },
  {
   "cell_type": "code",
   "execution_count": 8,
   "metadata": {},
   "outputs": [],
   "source": [
    "maze = labyrinthe\n",
    "mazeArray = np.array(maze)\n",
    "#maze"
   ]
  },
  {
   "cell_type": "markdown",
   "metadata": {},
   "source": [
    "#### Using Networkx"
   ]
  },
  {
   "cell_type": "code",
   "execution_count": 9,
   "metadata": {},
   "outputs": [
    {
     "data": {
      "image/png": "[encoded data removed]",
      "text/plain": [
       "<Figure size 432x288 with 1 Axes>"
      ]
     },
     "metadata": {},
     "output_type": "display_data"
    }
   ],
   "source": [
    "graph = nx.from_numpy_matrix(mazeArray)\n",
    "nx.draw(graph, with_labels = 1)"
   ]
  },
  {
   "cell_type": "code",
   "execution_count": 10,
   "metadata": {},
   "outputs": [],
   "source": [
    "res = {idx+1:graph[idx] for idx in range(len(graph))}\n",
    "#res"
   ]
  },
  {
   "cell_type": "markdown",
   "metadata": {},
   "source": [
    "## Try to find a solution with iterations from upper entry to lower exit\n",
    "#### (This method is partial because we can just work on small matrix and solutions can't be found)"
   ]
  },
  {
   "cell_type": "code",
   "execution_count": 11,
   "metadata": {},
   "outputs": [
    {
     "name": "stdout",
     "output_type": "stream",
     "text": [
      "Solution doesn't exist\n"
     ]
    }
   ],
   "source": [
    "# https://www.geeksforgeeks.org/python-program-for-rat-in-a-maze-backtracking-2/\n",
    "\n",
    "N = len(maze)\n",
    "  \n",
    "# A utility function to print solution matrix sol \n",
    "def printSolution( sol ): \n",
    "      \n",
    "    for i in sol: \n",
    "        for j in i: \n",
    "            print(str(j) + \" \", end =\"\") \n",
    "        print(\"\") \n",
    "  \n",
    "# A utility function to check if x, y is valid \n",
    "# index for N * N Maze \n",
    "def isSafe( maze, x, y ): \n",
    "      \n",
    "    if x >= 0 and x < N and y >= 0 and y < N and maze[x][y] == 1: \n",
    "        return True\n",
    "      \n",
    "    return False\n",
    "  \n",
    "\"\"\" This function solves the Maze problem using Backtracking.  \n",
    "    It mainly uses solveMazeUtil() to solve the problem. It  \n",
    "    returns false if no path is possible, otherwise return  \n",
    "    true and prints the path in the form of 1s. Please note \n",
    "    that there may be more than one solutions, this function \n",
    "    prints one of the feasable solutions. \"\"\"\n",
    "\n",
    "def solveMaze( maze ): \n",
    "      \n",
    "    sol = [ [ 0 for j in range(N) ] for i in range(N) ] \n",
    "      \n",
    "    if solveMazeUtil(maze, 0, 1, sol) == False: #Entry point for the solution\n",
    "        print(\"Solution doesn't exist\"); \n",
    "        return False\n",
    "      \n",
    "    printSolution(sol) \n",
    "    return True\n",
    "      \n",
    "# A recursive utility function to solve Maze problem \n",
    "def solveMazeUtil(maze, x, y, sol): \n",
    "      \n",
    "    # if (x, y is goal) return True \n",
    "    if x == N - 1 and y == N - 2: # Exit point for the solution\n",
    "        sol[x][y] = 1\n",
    "        return True\n",
    "          \n",
    "    # Check if maze[x][y] is valid \n",
    "    if isSafe(maze, x, y) == True: \n",
    "        # mark x, y as part of solution path \n",
    "        sol[x][y] = 1\n",
    "          \n",
    "        # Move forward in x direction \n",
    "        if solveMazeUtil(maze, x + 1, y, sol) == True:\n",
    "            return True\n",
    "        \n",
    "        # If moving in x direction doesn't give solution  \n",
    "        # then Move down in y direction \n",
    "        if solveMazeUtil(maze, x, y + 1, sol) == True: \n",
    "            return True\n",
    "          \n",
    "        # If none of the above movements work then  \n",
    "        # BACKTRACK: unmark x, y as part of solution path \n",
    "        sol[x][y] = 0\n",
    "        return False\n",
    "              \n",
    "x = solveMaze(maze)"
   ]
  },
  {
   "cell_type": "code",
   "execution_count": null,
   "metadata": {},
   "outputs": [],
   "source": []
  },
  {
   "cell_type": "markdown",
   "metadata": {},
   "source": [
    "#### Trying to use another solution : https://levelup.gitconnected.com/solve-a-maze-with-python-e9f0580979a1\n",
    " \n",
    "#### but we need to switch boolean in matrix"
   ]
  },
  {
   "cell_type": "code",
   "execution_count": 12,
   "metadata": {},
   "outputs": [
    {
     "data": {
      "text/plain": [
       "array([[0, 1, 0, 0, 0, 0, 0, 0, 0, 0, 0, 0, 0, 0, 0, 0, 0, 0, 0, 0, 0],\n",
       "       [0, 1, 0, 1, 1, 1, 1, 1, 0, 1, 1, 1, 1, 1, 0, 1, 1, 1, 1, 1, 0],\n",
       "       [0, 1, 0, 1, 0, 0, 0, 1, 0, 1, 0, 0, 0, 1, 0, 1, 0, 1, 0, 1, 0],\n",
       "       [0, 1, 1, 1, 0, 1, 1, 1, 0, 1, 1, 1, 0, 1, 1, 1, 0, 1, 0, 1, 0],\n",
       "       [0, 0, 0, 0, 0, 1, 0, 0, 0, 0, 0, 0, 0, 0, 0, 0, 0, 1, 0, 1, 0],\n",
       "       [0, 1, 0, 1, 1, 1, 0, 1, 1, 1, 1, 1, 1, 1, 0, 1, 1, 1, 0, 1, 0],\n",
       "       [0, 1, 0, 1, 0, 0, 0, 1, 0, 0, 0, 0, 0, 1, 0, 1, 0, 0, 0, 0, 0],\n",
       "       [0, 1, 0, 1, 1, 1, 1, 1, 0, 1, 1, 1, 0, 1, 0, 1, 1, 1, 1, 1, 0],\n",
       "       [0, 1, 0, 0, 0, 0, 0, 0, 0, 1, 0, 1, 0, 1, 0, 1, 0, 0, 0, 1, 0],\n",
       "       [0, 1, 1, 1, 1, 1, 0, 1, 1, 1, 0, 1, 1, 1, 0, 1, 0, 1, 1, 1, 0],\n",
       "       [0, 1, 0, 0, 0, 0, 0, 1, 0, 0, 0, 0, 0, 0, 0, 0, 0, 1, 0, 1, 0],\n",
       "       [0, 1, 1, 1, 1, 1, 0, 1, 0, 1, 1, 1, 1, 1, 1, 1, 1, 1, 0, 1, 0],\n",
       "       [0, 1, 0, 0, 0, 1, 0, 1, 0, 1, 0, 0, 0, 1, 0, 0, 0, 0, 0, 1, 0],\n",
       "       [0, 1, 0, 1, 0, 1, 1, 1, 0, 1, 1, 1, 0, 1, 1, 1, 1, 1, 0, 1, 0],\n",
       "       [0, 1, 0, 1, 0, 0, 0, 0, 0, 0, 0, 1, 0, 0, 0, 0, 0, 1, 0, 1, 0],\n",
       "       [0, 1, 1, 1, 1, 1, 1, 1, 0, 1, 1, 1, 1, 1, 1, 1, 0, 1, 0, 1, 0],\n",
       "       [0, 0, 0, 0, 0, 0, 0, 1, 0, 0, 0, 0, 0, 0, 0, 0, 0, 1, 0, 0, 0],\n",
       "       [0, 1, 0, 1, 1, 1, 1, 1, 0, 1, 1, 1, 1, 1, 1, 1, 0, 1, 1, 1, 0],\n",
       "       [0, 1, 0, 1, 0, 0, 0, 0, 0, 1, 0, 0, 0, 0, 0, 1, 0, 0, 0, 1, 0],\n",
       "       [0, 1, 1, 1, 1, 1, 1, 1, 1, 1, 0, 1, 1, 1, 1, 1, 1, 1, 1, 1, 0],\n",
       "       [0, 0, 0, 0, 0, 0, 0, 0, 0, 0, 0, 0, 0, 0, 0, 0, 0, 0, 0, 1, 0]])"
      ]
     },
     "execution_count": 12,
     "metadata": {},
     "output_type": "execute_result"
    }
   ],
   "source": [
    "mazeArray"
   ]
  },
  {
   "cell_type": "code",
   "execution_count": 13,
   "metadata": {},
   "outputs": [],
   "source": [
    "#mazeArray2 = [j== 0  for i in mazeArray for j in mazeArray[i]] \n",
    "mazeArray2 = np.logical_not(mazeArray).astype(int)"
   ]
  },
  {
   "cell_type": "code",
   "execution_count": 14,
   "metadata": {},
   "outputs": [
    {
     "data": {
      "text/plain": [
       "array([[1, 0, 1, 1, 1, 1, 1, 1, 1, 1, 1, 1, 1, 1, 1, 1, 1, 1, 1, 1, 1],\n",
       "       [1, 0, 1, 0, 0, 0, 0, 0, 1, 0, 0, 0, 0, 0, 1, 0, 0, 0, 0, 0, 1],\n",
       "       [1, 0, 1, 0, 1, 1, 1, 0, 1, 0, 1, 1, 1, 0, 1, 0, 1, 0, 1, 0, 1],\n",
       "       [1, 0, 0, 0, 1, 0, 0, 0, 1, 0, 0, 0, 1, 0, 0, 0, 1, 0, 1, 0, 1],\n",
       "       [1, 1, 1, 1, 1, 0, 1, 1, 1, 1, 1, 1, 1, 1, 1, 1, 1, 0, 1, 0, 1],\n",
       "       [1, 0, 1, 0, 0, 0, 1, 0, 0, 0, 0, 0, 0, 0, 1, 0, 0, 0, 1, 0, 1],\n",
       "       [1, 0, 1, 0, 1, 1, 1, 0, 1, 1, 1, 1, 1, 0, 1, 0, 1, 1, 1, 1, 1],\n",
       "       [1, 0, 1, 0, 0, 0, 0, 0, 1, 0, 0, 0, 1, 0, 1, 0, 0, 0, 0, 0, 1],\n",
       "       [1, 0, 1, 1, 1, 1, 1, 1, 1, 0, 1, 0, 1, 0, 1, 0, 1, 1, 1, 0, 1],\n",
       "       [1, 0, 0, 0, 0, 0, 1, 0, 0, 0, 1, 0, 0, 0, 1, 0, 1, 0, 0, 0, 1],\n",
       "       [1, 0, 1, 1, 1, 1, 1, 0, 1, 1, 1, 1, 1, 1, 1, 1, 1, 0, 1, 0, 1],\n",
       "       [1, 0, 0, 0, 0, 0, 1, 0, 1, 0, 0, 0, 0, 0, 0, 0, 0, 0, 1, 0, 1],\n",
       "       [1, 0, 1, 1, 1, 0, 1, 0, 1, 0, 1, 1, 1, 0, 1, 1, 1, 1, 1, 0, 1],\n",
       "       [1, 0, 1, 0, 1, 0, 0, 0, 1, 0, 0, 0, 1, 0, 0, 0, 0, 0, 1, 0, 1],\n",
       "       [1, 0, 1, 0, 1, 1, 1, 1, 1, 1, 1, 0, 1, 1, 1, 1, 1, 0, 1, 0, 1],\n",
       "       [1, 0, 0, 0, 0, 0, 0, 0, 1, 0, 0, 0, 0, 0, 0, 0, 1, 0, 1, 0, 1],\n",
       "       [1, 1, 1, 1, 1, 1, 1, 0, 1, 1, 1, 1, 1, 1, 1, 1, 1, 0, 1, 1, 1],\n",
       "       [1, 0, 1, 0, 0, 0, 0, 0, 1, 0, 0, 0, 0, 0, 0, 0, 1, 0, 0, 0, 1],\n",
       "       [1, 0, 1, 0, 1, 1, 1, 1, 1, 0, 1, 1, 1, 1, 1, 0, 1, 1, 1, 0, 1],\n",
       "       [1, 0, 0, 0, 0, 0, 0, 0, 0, 0, 1, 0, 0, 0, 0, 0, 0, 0, 0, 0, 1],\n",
       "       [1, 1, 1, 1, 1, 1, 1, 1, 1, 1, 1, 1, 1, 1, 1, 1, 1, 1, 1, 0, 1]])"
      ]
     },
     "execution_count": 14,
     "metadata": {},
     "output_type": "execute_result"
    }
   ],
   "source": [
    "mazeArray2"
   ]
  },
  {
   "cell_type": "code",
   "execution_count": 15,
   "metadata": {},
   "outputs": [],
   "source": [
    "a = mazeArray2"
   ]
  },
  {
   "cell_type": "code",
   "execution_count": 42,
   "metadata": {},
   "outputs": [
    {
     "name": "stdout",
     "output_type": "stream",
     "text": [
      "The maze : \n",
      "[[0 1 0 0 0 0 0 0 0 0 0 0 0 0 0 0 0 0 0 0 0]\n",
      " [0 1 0 1 1 1 1 1 0 1 1 1 1 1 0 1 1 1 1 1 0]\n",
      " [0 1 0 1 0 0 0 1 0 1 0 0 0 1 0 1 0 1 0 1 0]\n",
      " [0 1 1 1 0 1 1 1 0 1 1 1 0 1 1 1 0 1 0 1 0]\n",
      " [0 0 0 0 0 1 0 0 0 0 0 0 0 0 0 0 0 1 0 1 0]\n",
      " [0 1 0 1 1 1 0 1 1 1 1 1 1 1 0 1 1 1 0 1 0]\n",
      " [0 1 0 1 0 0 0 1 0 0 0 0 0 1 0 1 0 0 0 0 0]\n",
      " [0 1 0 1 1 1 1 1 0 1 1 1 0 1 0 1 1 1 1 1 0]\n",
      " [0 1 0 0 0 0 0 0 0 1 0 1 0 1 0 1 0 0 0 1 0]\n",
      " [0 1 1 1 1 1 0 1 1 1 0 1 1 1 0 1 0 1 1 1 0]\n",
      " [0 1 0 0 0 0 0 1 0 0 0 0 0 0 0 0 0 1 0 1 0]\n",
      " [0 1 1 1 1 1 0 1 0 1 1 1 1 1 1 1 1 1 0 1 0]\n",
      " [0 1 0 0 0 1 0 1 0 1 0 0 0 1 0 0 0 0 0 1 0]\n",
      " [0 1 0 1 0 1 1 1 0 1 1 1 0 1 1 1 1 1 0 1 0]\n",
      " [0 1 0 1 0 0 0 0 0 0 0 1 0 0 0 0 0 1 0 1 0]\n",
      " [0 1 1 1 1 1 1 1 0 1 1 1 1 1 1 1 0 1 0 1 0]\n",
      " [0 0 0 0 0 0 0 1 0 0 0 0 0 0 0 0 0 1 0 0 0]\n",
      " [0 1 0 1 1 1 1 1 0 1 1 1 1 1 1 1 0 1 1 1 0]\n",
      " [0 1 0 1 0 0 0 0 0 1 0 0 0 0 0 1 0 0 0 1 0]\n",
      " [0 1 1 1 1 1 1 1 1 1 0 1 1 1 1 1 1 1 1 1 0]\n",
      " [0 0 0 0 0 0 0 0 0 0 0 0 0 0 0 0 0 0 0 1 0]]\n",
      "The Depth First Search :\n",
      "0  1  0  0  0  0  0  0  0  0  0  0  0  0  0  0  0  0  0  0  0  \n",
      "0  2  0  8  9  10 11 12 0  0  0  0  0  0  0  0  0  0  0  0  0  \n",
      "0  3  0  7  0  0  0  13 0  0  0  0  0  0  0  0  0  0  0  0  0  \n",
      "0  4  5  6  0  16 15 14 0  0  0  0  0  0  0  0  0  0  0  0  0  \n",
      "0  0  0  0  0  17 0  0  0  0  0  0  0  0  0  0  0  0  0  0  0  \n",
      "0  66 0  20 19 18 0  28 29 30 31 32 33 34 0  0  0  0  0  0  0  \n",
      "0  65 0  21 0  0  0  27 0  0  0  0  0  35 0  0  0  0  0  0  0  \n",
      "0  64 0  22 23 24 25 26 0  44 43 42 0  36 0  0  0  0  0  0  0  \n",
      "0  63 0  0  0  0  0  0  0  45 0  41 0  37 0  0  0  0  0  0  0  \n",
      "0  62 63 64 65 66 0  48 47 46 0  40 39 38 0  0  0  0  0  0  0  \n",
      "0  61 0  0  0  0  0  49 0  0  0  0  0  0  0  0  0  0  0  0  0  \n",
      "0  60 59 58 57 56 0  50 0  0  0  0  0  0  0  0  0  0  0  0  0  \n",
      "0  61 0  0  0  55 0  51 0  0  0  0  0  0  0  0  0  0  0  0  0  \n",
      "0  62 0  68 0  54 53 52 0  0  0  0  0  0  0  0  0  0  0  0  0  \n",
      "0  63 0  67 0  0  0  0  0  0  0  0  0  0  0  0  0  0  0  0  0  \n",
      "0  64 65 66 67 68 69 70 0  0  0  0  0  0  0  0  0  0  0  0  0  \n",
      "0  0  0  0  0  0  0  71 0  0  0  0  0  0  0  0  0  0  0  0  0  \n",
      "0  82 0  76 75 74 73 72 0  86 87 88 89 90 91 92 0  0  0  0  0  \n",
      "0  81 0  77 0  0  0  0  0  85 0  0  0  0  0  93 0  0  0  99 0  \n",
      "0  80 79 78 79 80 81 82 83 84 0  98 97 96 95 94 95 96 97 98 0  \n",
      "0  0  0  0  0  0  0  0  0  0  0  0  0  0  0  0  0  0  0  99 0  \n",
      "________________________________________\n",
      "the path :\n",
      " [(20, 19), (19, 19), (19, 18), (19, 17), (19, 16), (19, 15), (18, 15), (17, 15), (17, 14), (17, 13), (17, 12), (17, 11), (17, 10), (17, 9), (18, 9), (19, 9), (19, 8), (19, 7), (19, 6), (19, 5), (19, 4), (19, 3), (18, 3), (17, 3), (17, 4), (17, 5), (17, 6), (17, 7), (16, 7), (15, 7), (15, 6), (15, 5), (15, 4), (15, 3), (15, 2), (15, 1), (14, 1), (13, 1), (12, 1), (11, 1), (11, 2), (11, 3), (11, 4), (11, 5), (12, 5), (13, 5), (13, 6), (13, 7), (12, 7), (11, 7), (10, 7), (9, 7), (9, 8), (9, 9), (8, 9), (7, 9), (7, 10), (7, 11), (8, 11), (9, 11), (9, 12), (9, 13), (8, 13), (7, 13), (6, 13), (5, 13), (5, 12), (5, 11), (5, 10), (5, 9), (5, 8), (5, 7), (6, 7), (7, 7), (7, 6), (7, 5), (7, 4), (7, 3), (6, 3), (5, 3), (5, 4), (5, 5), (4, 5), (3, 5), (3, 6), (3, 7), (2, 7), (1, 7), (1, 6), (1, 5), (1, 4), (1, 3), (2, 3), (3, 3), (3, 2), (3, 1), (2, 1), (1, 1), (0, 1)]\n"
     ]
    }
   ],
   "source": [
    "# https://levelup.gitconnected.com/solve-a-maze-with-python-e9f0580979a1\n",
    "\n",
    "from PIL import Image, ImageDraw\n",
    "images = []\n",
    "\n",
    "zoom = 15\n",
    "borders = 2\n",
    "\n",
    "start = 0,1\n",
    "end = len(mazeArray) - 1,len(mazeArray) - 2\n",
    "\n",
    "def make_step(k):\n",
    "  for i in range(len(m)):\n",
    "    for j in range(len(m[i])):\n",
    "      if m[i][j] == k:\n",
    "        if i>0 and m[i-1][j] == 0 and a[i-1][j] == 0:\n",
    "          m[i-1][j] = k + 1\n",
    "        if j>0 and m[i][j-1] == 0 and a[i][j-1] == 0:\n",
    "          m[i][j-1] = k + 1\n",
    "        if i<len(m)-1 and m[i+1][j] == 0 and a[i+1][j] == 0:\n",
    "          m[i+1][j] = k + 1\n",
    "        if j<len(m[i])-1 and m[i][j+1] == 0 and a[i][j+1] == 0:\n",
    "           m[i][j+1] = k + 1\n",
    "\n",
    "def print_m(m):\n",
    "    for i in range(len(m)):\n",
    "        for j in range(len(m[i])):\n",
    "            print( str(m[i][j]).ljust(2),end=' ')\n",
    "        print()\n",
    "\n",
    "def draw_matrix(a,m, the_path = []):\n",
    "    im = Image.new('RGB', (zoom * len(a[0]), zoom * len(a)), (255, 0, 0))\n",
    "    draw = ImageDraw.Draw(im)\n",
    "    for i in range(len(a)):\n",
    "        for j in range(len(a[i])):\n",
    "            color = (255, 255, 0) # Way (of life) color\n",
    "            r = 0\n",
    "            if a[i][j] == 1:\n",
    "                color = (78, 4, 71) # Wall color\n",
    "            if i == start[0] and j == start[1]:\n",
    "                color = (0, 255, 0)\n",
    "                r = borders\n",
    "            if i == end[0] and j == end[1]:\n",
    "                color = (0, 255, 0)\n",
    "                r = borders\n",
    "            draw.rectangle((j*zoom+r, i*zoom+r, j*zoom+zoom-r-1, i*zoom+zoom-r-1), fill=color)\n",
    "            if m[i][j] > 0:\n",
    "                r = borders\n",
    "                draw.ellipse((j * zoom + r, i * zoom + r, j * zoom + zoom - r - 1, i * zoom + zoom - r - 1),\n",
    "                               fill=(255,0,0))\n",
    "    for u in range(len(the_path)-1):\n",
    "        y = the_path[u][0]*zoom + int(zoom/2)\n",
    "        x = the_path[u][1]*zoom + int(zoom/2)\n",
    "        y1 = the_path[u+1][0]*zoom + int(zoom/2)\n",
    "        x1 = the_path[u+1][1]*zoom + int(zoom/2)\n",
    "        draw.line((x,y,x1,y1), fill=(255, 0,0), width=5)\n",
    "    draw.rectangle((0, 0, zoom * len(a[0]), zoom * len(a)), outline=(0,255,0), width=2)\n",
    "    images.append(im)\n",
    "\n",
    "\n",
    "m = []\n",
    "for i in range(len(a)):\n",
    "    m.append([])\n",
    "    for j in range(len(a[i])):\n",
    "        m[-1].append(0)\n",
    "i,j = start\n",
    "m[i][j] = 1\n",
    "\n",
    "k = 0\n",
    "while m[end[0]][end[1]] == 0:\n",
    "    k += 1\n",
    "    make_step(k)\n",
    "    draw_matrix(a, m)\n",
    "\n",
    "\n",
    "i, j = end\n",
    "k = m[i][j]\n",
    "the_path = [(i,j)]\n",
    "while k > 1:\n",
    "  if i > 0 and m[i - 1][j] == k-1:\n",
    "    i, j = i-1, j\n",
    "    the_path.append((i, j))\n",
    "    k-=1\n",
    "  elif j > 0 and m[i][j - 1] == k-1:\n",
    "    i, j = i, j-1\n",
    "    the_path.append((i, j))\n",
    "    k-=1\n",
    "  elif i < len(m) - 1 and m[i + 1][j] == k-1:\n",
    "    i, j = i+1, j\n",
    "    the_path.append((i, j))\n",
    "    k-=1\n",
    "  elif j < len(m[i]) - 1 and m[i][j + 1] == k-1:\n",
    "    i, j = i, j+1\n",
    "    the_path.append((i, j))\n",
    "    k -= 1\n",
    "  draw_matrix(a, m, the_path)\n",
    "\n",
    "for i in range(10):\n",
    "    if i % 2 == 0:\n",
    "        draw_matrix(a, m, the_path)\n",
    "    else:\n",
    "        draw_matrix(a, m)\n",
    "print('The maze : ')\n",
    "print(mazeArray)\n",
    "print('The Depth First Search :')\n",
    "print_m(m)\n",
    "print('_' * 40)\n",
    "print('the path :\\n', the_path)\n",
    "\n",
    "images[0].save('maze.gif',\n",
    "               save_all=True, append_images=images[1:],\n",
    "               optimize=False, duration=20, loop=0)"
   ]
  },
  {
   "cell_type": "code",
   "execution_count": 43,
   "metadata": {},
   "outputs": [
    {
     "name": "stdout",
     "output_type": "stream",
     "text": [
      "Different DFS paths + the way to exit\n",
      "=====================================\n"
     ]
    },
    {
     "data": {
      "text/html": [
       "<img src=\"maze.gif\"/>"
      ],
      "text/plain": [
       "<IPython.core.display.Image object>"
      ]
     },
     "execution_count": 43,
     "metadata": {},
     "output_type": "execute_result"
    }
   ],
   "source": [
    "from IPython.display import Image\n",
    "print('Different DFS paths + the way to exit')\n",
    "print(\"=\"*37)\n",
    "Image(url='maze.gif')"
   ]
  }
 ],
 "metadata": {
  "kernelspec": {
   "display_name": "maze",
   "language": "python",
   "name": "maze"
  },
  "language_info": {
   "codemirror_mode": {
    "name": "ipython",
    "version": 3
   },
   "file_extension": ".py",
   "mimetype": "text/x-python",
   "name": "python",
   "nbconvert_exporter": "python",
   "pygments_lexer": "ipython3",
   "version": "3.9.1"
  }
 },
 "nbformat": 4,
 "nbformat_minor": 4
}
